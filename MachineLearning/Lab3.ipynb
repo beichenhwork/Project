{
 "cells": [
  {
   "cell_type": "markdown",
   "metadata": {},
   "source": [
    "# Lab Assignment Three: Extending Logistic Regression"
   ]
  },
  {
   "cell_type": "markdown",
   "metadata": {},
   "source": [
    "- Name 1:Wen Yang 47781972\n",
    "- Name 2:Beichen Hu 47809766\n",
    "- Name 3:Zheqi Wang 47711564\n",
    "- Name 4:Ziling Feng 47781816"
   ]
  },
  {
   "cell_type": "markdown",
   "metadata": {},
   "source": [
    "## Preparation and Overview"
   ]
  },
  {
   "cell_type": "markdown",
   "metadata": {},
   "source": [
    "#### Classification Task and Business Value"
   ]
  },
  {
   "cell_type": "markdown",
   "metadata": {},
   "source": [
    "Red wine appeared in the south of France between about 1000 BC and 500 BC, and it began to spread in most parts of the Mediterranean basin. In the early days, this drink has always been regarded as a high-class drink that only nobles can enjoy. However, with the improvement of people's quality of life, red wine is becoming more and more popular in people's daily life. The price of red wine fluctuates greatly with the quality. Therefore, we want to explore what traits of red wine can sell more with high price. So, this time we selected the data set is a rating on the quality of red wine. From this data set we can investigate the relationship between the quality of red wine and its characteristics.<br />\n",
    "For business value, I think the winery will be very interested in our analytical model. They can know from our analysis what red wine characteristics will affect the quality of the wine, so as to better control various parameters during the process of the winemaking, such as the introduction of modern machines like temperature control, acidity control, etc., to ensure the best taste and quality of red wine. This can increase the price of red wine which creates more revenue for the winery.<br />\n",
    "Red wine merchants can pass this model according to the various characteristics of red wine can be used to predict the quality of the wine, so as to locate different prices of different red wine, red wine sales to positioning what are the various groups, such as low level of red wine is sold to low-end consumer, can put on sale in 7-eleven convenience store, so people can afford this kind of red wine. High-end wine can be sold in high-end restaurants, so that high-end wine can better reflect its inherent value, so as to better position different wine corresponding to different sales markets, thus improving sales performance. For example, you can't put high-end wine in a convenience store. If the price is low, the intrinsic value of the wine will be lost. If the price is too high, the wine will be locked in the goods and no one will buy it.<br />\n",
    "I think our model is more suitable for deployment in the process of production. Because according to our investigation, in the process of wine making , it needs to be sealed, can not open the seal easily. So, we can adjust external environment like temperature, humidity and so on in time according to the chemical parameter values displayed on modern equipment to help winery to make red wine with the best quality so as to make a profit."
   ]
  },
  {
   "cell_type": "markdown",
   "metadata": {},
   "source": [
    "#### Define and Prepare Dataset"
   ]
  },
  {
   "cell_type": "code",
   "execution_count": 1,
   "metadata": {},
   "outputs": [
    {
     "data": {
      "text/plain": [
       "fixed acidity           float64\n",
       "volatile acidity        float64\n",
       "citric acid             float64\n",
       "residual sugar          float64\n",
       "chlorides               float64\n",
       "free sulfur dioxide     float64\n",
       "total sulfur dioxide    float64\n",
       "density                 float64\n",
       "pH                      float64\n",
       "sulphates               float64\n",
       "alcohol                 float64\n",
       "quality                   int64\n",
       "dtype: object"
      ]
     },
     "execution_count": 1,
     "metadata": {},
     "output_type": "execute_result"
    }
   ],
   "source": [
    "import pandas as pd\n",
    "import numpy as np\n",
    "import matplotlib.pyplot as plt\n",
    "from sklearn import preprocessing\n",
    "\n",
    "#read data\n",
    "df = pd.read_csv(\"https://raw.githubusercontent.com/ZheqiWang/Machine-Learning/master/winequality-red.csv\")\n",
    "df.dtypes"
   ]
  },
  {
   "cell_type": "markdown",
   "metadata": {},
   "source": [
    "We check the data type and find each variable is a specific float value and the classification task quality is a rank between 1 to 10, so variable representations are reasonable. We don't need to change it."
   ]
  },
  {
   "cell_type": "code",
   "execution_count": 2,
   "metadata": {},
   "outputs": [
    {
     "data": {
      "text/html": [
       "<div>\n",
       "<style scoped>\n",
       "    .dataframe tbody tr th:only-of-type {\n",
       "        vertical-align: middle;\n",
       "    }\n",
       "\n",
       "    .dataframe tbody tr th {\n",
       "        vertical-align: top;\n",
       "    }\n",
       "\n",
       "    .dataframe thead th {\n",
       "        text-align: right;\n",
       "    }\n",
       "</style>\n",
       "<table border=\"1\" class=\"dataframe\">\n",
       "  <thead>\n",
       "    <tr style=\"text-align: right;\">\n",
       "      <th></th>\n",
       "      <th>fixed acidity</th>\n",
       "      <th>volatile acidity</th>\n",
       "      <th>citric acid</th>\n",
       "      <th>residual sugar</th>\n",
       "      <th>chlorides</th>\n",
       "      <th>free sulfur dioxide</th>\n",
       "      <th>total sulfur dioxide</th>\n",
       "      <th>density</th>\n",
       "      <th>pH</th>\n",
       "      <th>sulphates</th>\n",
       "      <th>alcohol</th>\n",
       "      <th>quality</th>\n",
       "    </tr>\n",
       "  </thead>\n",
       "  <tbody>\n",
       "    <tr>\n",
       "      <th>count</th>\n",
       "      <td>1599.000000</td>\n",
       "      <td>1599.000000</td>\n",
       "      <td>1599.000000</td>\n",
       "      <td>1599.000000</td>\n",
       "      <td>1599.000000</td>\n",
       "      <td>1599.000000</td>\n",
       "      <td>1599.000000</td>\n",
       "      <td>1599.000000</td>\n",
       "      <td>1599.000000</td>\n",
       "      <td>1599.000000</td>\n",
       "      <td>1599.000000</td>\n",
       "      <td>1599.000000</td>\n",
       "    </tr>\n",
       "    <tr>\n",
       "      <th>mean</th>\n",
       "      <td>8.319637</td>\n",
       "      <td>0.527821</td>\n",
       "      <td>0.270976</td>\n",
       "      <td>2.538806</td>\n",
       "      <td>0.087467</td>\n",
       "      <td>15.874922</td>\n",
       "      <td>46.467792</td>\n",
       "      <td>0.996747</td>\n",
       "      <td>3.311113</td>\n",
       "      <td>0.658149</td>\n",
       "      <td>10.422983</td>\n",
       "      <td>5.636023</td>\n",
       "    </tr>\n",
       "    <tr>\n",
       "      <th>std</th>\n",
       "      <td>1.741096</td>\n",
       "      <td>0.179060</td>\n",
       "      <td>0.194801</td>\n",
       "      <td>1.409928</td>\n",
       "      <td>0.047065</td>\n",
       "      <td>10.460157</td>\n",
       "      <td>32.895324</td>\n",
       "      <td>0.001887</td>\n",
       "      <td>0.154386</td>\n",
       "      <td>0.169507</td>\n",
       "      <td>1.065668</td>\n",
       "      <td>0.807569</td>\n",
       "    </tr>\n",
       "    <tr>\n",
       "      <th>min</th>\n",
       "      <td>4.600000</td>\n",
       "      <td>0.120000</td>\n",
       "      <td>0.000000</td>\n",
       "      <td>0.900000</td>\n",
       "      <td>0.012000</td>\n",
       "      <td>1.000000</td>\n",
       "      <td>6.000000</td>\n",
       "      <td>0.990070</td>\n",
       "      <td>2.740000</td>\n",
       "      <td>0.330000</td>\n",
       "      <td>8.400000</td>\n",
       "      <td>3.000000</td>\n",
       "    </tr>\n",
       "    <tr>\n",
       "      <th>25%</th>\n",
       "      <td>7.100000</td>\n",
       "      <td>0.390000</td>\n",
       "      <td>0.090000</td>\n",
       "      <td>1.900000</td>\n",
       "      <td>0.070000</td>\n",
       "      <td>7.000000</td>\n",
       "      <td>22.000000</td>\n",
       "      <td>0.995600</td>\n",
       "      <td>3.210000</td>\n",
       "      <td>0.550000</td>\n",
       "      <td>9.500000</td>\n",
       "      <td>5.000000</td>\n",
       "    </tr>\n",
       "    <tr>\n",
       "      <th>50%</th>\n",
       "      <td>7.900000</td>\n",
       "      <td>0.520000</td>\n",
       "      <td>0.260000</td>\n",
       "      <td>2.200000</td>\n",
       "      <td>0.079000</td>\n",
       "      <td>14.000000</td>\n",
       "      <td>38.000000</td>\n",
       "      <td>0.996750</td>\n",
       "      <td>3.310000</td>\n",
       "      <td>0.620000</td>\n",
       "      <td>10.200000</td>\n",
       "      <td>6.000000</td>\n",
       "    </tr>\n",
       "    <tr>\n",
       "      <th>75%</th>\n",
       "      <td>9.200000</td>\n",
       "      <td>0.640000</td>\n",
       "      <td>0.420000</td>\n",
       "      <td>2.600000</td>\n",
       "      <td>0.090000</td>\n",
       "      <td>21.000000</td>\n",
       "      <td>62.000000</td>\n",
       "      <td>0.997835</td>\n",
       "      <td>3.400000</td>\n",
       "      <td>0.730000</td>\n",
       "      <td>11.100000</td>\n",
       "      <td>6.000000</td>\n",
       "    </tr>\n",
       "    <tr>\n",
       "      <th>max</th>\n",
       "      <td>15.900000</td>\n",
       "      <td>1.580000</td>\n",
       "      <td>1.000000</td>\n",
       "      <td>15.500000</td>\n",
       "      <td>0.611000</td>\n",
       "      <td>72.000000</td>\n",
       "      <td>289.000000</td>\n",
       "      <td>1.003690</td>\n",
       "      <td>4.010000</td>\n",
       "      <td>2.000000</td>\n",
       "      <td>14.900000</td>\n",
       "      <td>8.000000</td>\n",
       "    </tr>\n",
       "  </tbody>\n",
       "</table>\n",
       "</div>"
      ],
      "text/plain": [
       "       fixed acidity  volatile acidity  citric acid  residual sugar  \\\n",
       "count    1599.000000       1599.000000  1599.000000     1599.000000   \n",
       "mean        8.319637          0.527821     0.270976        2.538806   \n",
       "std         1.741096          0.179060     0.194801        1.409928   \n",
       "min         4.600000          0.120000     0.000000        0.900000   \n",
       "25%         7.100000          0.390000     0.090000        1.900000   \n",
       "50%         7.900000          0.520000     0.260000        2.200000   \n",
       "75%         9.200000          0.640000     0.420000        2.600000   \n",
       "max        15.900000          1.580000     1.000000       15.500000   \n",
       "\n",
       "         chlorides  free sulfur dioxide  total sulfur dioxide      density  \\\n",
       "count  1599.000000          1599.000000           1599.000000  1599.000000   \n",
       "mean      0.087467            15.874922             46.467792     0.996747   \n",
       "std       0.047065            10.460157             32.895324     0.001887   \n",
       "min       0.012000             1.000000              6.000000     0.990070   \n",
       "25%       0.070000             7.000000             22.000000     0.995600   \n",
       "50%       0.079000            14.000000             38.000000     0.996750   \n",
       "75%       0.090000            21.000000             62.000000     0.997835   \n",
       "max       0.611000            72.000000            289.000000     1.003690   \n",
       "\n",
       "                pH    sulphates      alcohol      quality  \n",
       "count  1599.000000  1599.000000  1599.000000  1599.000000  \n",
       "mean      3.311113     0.658149    10.422983     5.636023  \n",
       "std       0.154386     0.169507     1.065668     0.807569  \n",
       "min       2.740000     0.330000     8.400000     3.000000  \n",
       "25%       3.210000     0.550000     9.500000     5.000000  \n",
       "50%       3.310000     0.620000    10.200000     6.000000  \n",
       "75%       3.400000     0.730000    11.100000     6.000000  \n",
       "max       4.010000     2.000000    14.900000     8.000000  "
      ]
     },
     "execution_count": 2,
     "metadata": {},
     "output_type": "execute_result"
    }
   ],
   "source": [
    "df.describe()"
   ]
  },
  {
   "cell_type": "markdown",
   "metadata": {},
   "source": [
    "First, let's do the correlation graph to see the relationship between chemical substances and quality to decide whether we need to remove variables that are not needed for the analysis"
   ]
  },
  {
   "cell_type": "code",
   "execution_count": 3,
   "metadata": {},
   "outputs": [
    {
     "data": {
      "image/png": "[encoded data removed]",
      "text/plain": [
       "<Figure size 720x720 with 2 Axes>"
      ]
     },
     "metadata": {},
     "output_type": "display_data"
    }
   ],
   "source": [
    "import seaborn as sns\n",
    "cmap = sns.set(style=\"darkgrid\")\n",
    "f, ax = plt.subplots(figsize=(10, 10))\n",
    "sns.heatmap(df.corr(), cmap=cmap, annot=False)\n",
    "f.tight_layout()"
   ]
  },
  {
   "cell_type": "markdown",
   "metadata": {},
   "source": [
    "We can see some relationships between each variables from above graph.<br />\n",
    "The strongest correlation in the matrix above is the correlation between citric acid and fixed acidity, that makes sense, because most acids involved with wine are fixed. And we searched online, citric acid is actual belongs to fixed acidity. And that's also why citric acid has negatively correlated with volatile acidity. <br />\n",
    "We can also know that between quality and other chemical substances, alcohol and citric acid has strong correlation with quality. We also find that \"volatile acidity\", \"density\" and \"chlorides\" has very weak correlation with quality.<br />\n",
    "For \"volatile acidity\", we know that if the amount of volatile acidity is too high of levels can lead to an unpleasant, vinegar taste. Also, acidity can be measured in terms of PH, so we can remove this variable and keep the PH.<br />\n",
    "For chlorides, we searched online and know that, if amount of chlorides is less than 0.85, they will not infect the red wine's taste. We can learn that the max amount of chlorides in our data is 0.6, so we can remove this variable.<br />\n",
    "For the density calculate is related to the water, sugar and alcohol. We keep both sugar and alcohol, so we decided to remove density.<br />"
   ]
  },
  {
   "cell_type": "code",
   "execution_count": 4,
   "metadata": {},
   "outputs": [
    {
     "data": {
      "text/html": [
       "<div>\n",
       "<style scoped>\n",
       "    .dataframe tbody tr th:only-of-type {\n",
       "        vertical-align: middle;\n",
       "    }\n",
       "\n",
       "    .dataframe tbody tr th {\n",
       "        vertical-align: top;\n",
       "    }\n",
       "\n",
       "    .dataframe thead th {\n",
       "        text-align: right;\n",
       "    }\n",
       "</style>\n",
       "<table border=\"1\" class=\"dataframe\">\n",
       "  <thead>\n",
       "    <tr style=\"text-align: right;\">\n",
       "      <th></th>\n",
       "      <th>fixed acidity</th>\n",
       "      <th>volatile acidity</th>\n",
       "      <th>citric acid</th>\n",
       "      <th>residual sugar</th>\n",
       "      <th>chlorides</th>\n",
       "      <th>free sulfur dioxide</th>\n",
       "      <th>total sulfur dioxide</th>\n",
       "      <th>density</th>\n",
       "      <th>pH</th>\n",
       "      <th>sulphates</th>\n",
       "      <th>alcohol</th>\n",
       "      <th>quality</th>\n",
       "    </tr>\n",
       "  </thead>\n",
       "  <tbody>\n",
       "    <tr>\n",
       "      <th>0</th>\n",
       "      <td>7.4</td>\n",
       "      <td>0.70</td>\n",
       "      <td>0.00</td>\n",
       "      <td>1.9</td>\n",
       "      <td>0.076</td>\n",
       "      <td>11.0</td>\n",
       "      <td>34.0</td>\n",
       "      <td>0.9978</td>\n",
       "      <td>3.51</td>\n",
       "      <td>0.56</td>\n",
       "      <td>9.4</td>\n",
       "      <td>5</td>\n",
       "    </tr>\n",
       "    <tr>\n",
       "      <th>1</th>\n",
       "      <td>7.8</td>\n",
       "      <td>0.88</td>\n",
       "      <td>0.00</td>\n",
       "      <td>2.6</td>\n",
       "      <td>0.098</td>\n",
       "      <td>25.0</td>\n",
       "      <td>67.0</td>\n",
       "      <td>0.9968</td>\n",
       "      <td>3.20</td>\n",
       "      <td>0.68</td>\n",
       "      <td>9.8</td>\n",
       "      <td>5</td>\n",
       "    </tr>\n",
       "    <tr>\n",
       "      <th>2</th>\n",
       "      <td>7.8</td>\n",
       "      <td>0.76</td>\n",
       "      <td>0.04</td>\n",
       "      <td>2.3</td>\n",
       "      <td>0.092</td>\n",
       "      <td>15.0</td>\n",
       "      <td>54.0</td>\n",
       "      <td>0.9970</td>\n",
       "      <td>3.26</td>\n",
       "      <td>0.65</td>\n",
       "      <td>9.8</td>\n",
       "      <td>5</td>\n",
       "    </tr>\n",
       "    <tr>\n",
       "      <th>3</th>\n",
       "      <td>11.2</td>\n",
       "      <td>0.28</td>\n",
       "      <td>0.56</td>\n",
       "      <td>1.9</td>\n",
       "      <td>0.075</td>\n",
       "      <td>17.0</td>\n",
       "      <td>60.0</td>\n",
       "      <td>0.9980</td>\n",
       "      <td>3.16</td>\n",
       "      <td>0.58</td>\n",
       "      <td>9.8</td>\n",
       "      <td>6</td>\n",
       "    </tr>\n",
       "    <tr>\n",
       "      <th>4</th>\n",
       "      <td>7.4</td>\n",
       "      <td>0.70</td>\n",
       "      <td>0.00</td>\n",
       "      <td>1.9</td>\n",
       "      <td>0.076</td>\n",
       "      <td>11.0</td>\n",
       "      <td>34.0</td>\n",
       "      <td>0.9978</td>\n",
       "      <td>3.51</td>\n",
       "      <td>0.56</td>\n",
       "      <td>9.4</td>\n",
       "      <td>5</td>\n",
       "    </tr>\n",
       "  </tbody>\n",
       "</table>\n",
       "</div>"
      ],
      "text/plain": [
       "   fixed acidity  volatile acidity  citric acid  residual sugar  chlorides  \\\n",
       "0            7.4              0.70         0.00             1.9      0.076   \n",
       "1            7.8              0.88         0.00             2.6      0.098   \n",
       "2            7.8              0.76         0.04             2.3      0.092   \n",
       "3           11.2              0.28         0.56             1.9      0.075   \n",
       "4            7.4              0.70         0.00             1.9      0.076   \n",
       "\n",
       "   free sulfur dioxide  total sulfur dioxide  density    pH  sulphates  \\\n",
       "0                 11.0                  34.0   0.9978  3.51       0.56   \n",
       "1                 25.0                  67.0   0.9968  3.20       0.68   \n",
       "2                 15.0                  54.0   0.9970  3.26       0.65   \n",
       "3                 17.0                  60.0   0.9980  3.16       0.58   \n",
       "4                 11.0                  34.0   0.9978  3.51       0.56   \n",
       "\n",
       "   alcohol  quality  \n",
       "0      9.4        5  \n",
       "1      9.8        5  \n",
       "2      9.8        5  \n",
       "3      9.8        6  \n",
       "4      9.4        5  "
      ]
     },
     "execution_count": 4,
     "metadata": {},
     "output_type": "execute_result"
    }
   ],
   "source": [
    "df.head(5)"
   ]
  },
  {
   "cell_type": "code",
   "execution_count": 5,
   "metadata": {},
   "outputs": [
    {
     "data": {
      "text/plain": [
       "<matplotlib.axes._subplots.AxesSubplot at 0x123e867b8>"
      ]
     },
     "execution_count": 5,
     "metadata": {},
     "output_type": "execute_result"
    },
    {
     "data": {
      "image/png": "[encoded data removed]",
      "text/plain": [
       "<Figure size 1080x504 with 1 Axes>"
      ]
     },
     "metadata": {},
     "output_type": "display_data"
    }
   ],
   "source": [
    "plt.figure(figsize=(15,7))\n",
    "sns.countplot(x = df['quality'])"
   ]
  },
  {
   "cell_type": "markdown",
   "metadata": {},
   "source": [
    "I wanted to know the distribution of the number of wines rated, so I drew the diagram above. First of all, the grade of red wine is divided into 10 grades, from 1 to 10. A score of 1 indicates that the quality is very low, while a score of 10 indicates that the red wine has the highest quality. As can be seen from the above figure, it is normal distribution and the quality of red wine in the market is at a medium level. There is neither very bad quality wine nor very good quality wine on the market."
   ]
  },
  {
   "cell_type": "markdown",
   "metadata": {},
   "source": [
    "We have to predict a little more categories, there are 10 ratings in total, and we think the quality difference is one or two grades, the price difference is not too much. So we divided our quality rating into three groups, below 4 points are poor quality red wines, 5-6 points are medium quality red wines and 7 points or more are high quality red wines."
   ]
  },
  {
   "cell_type": "code",
   "execution_count": 6,
   "metadata": {},
   "outputs": [
    {
     "data": {
      "text/html": [
       "<div>\n",
       "<style scoped>\n",
       "    .dataframe tbody tr th:only-of-type {\n",
       "        vertical-align: middle;\n",
       "    }\n",
       "\n",
       "    .dataframe tbody tr th {\n",
       "        vertical-align: top;\n",
       "    }\n",
       "\n",
       "    .dataframe thead th {\n",
       "        text-align: right;\n",
       "    }\n",
       "</style>\n",
       "<table border=\"1\" class=\"dataframe\">\n",
       "  <thead>\n",
       "    <tr style=\"text-align: right;\">\n",
       "      <th></th>\n",
       "      <th>fixed acidity</th>\n",
       "      <th>volatile acidity</th>\n",
       "      <th>citric acid</th>\n",
       "      <th>residual sugar</th>\n",
       "      <th>chlorides</th>\n",
       "      <th>free sulfur dioxide</th>\n",
       "      <th>total sulfur dioxide</th>\n",
       "      <th>density</th>\n",
       "      <th>pH</th>\n",
       "      <th>sulphates</th>\n",
       "      <th>alcohol</th>\n",
       "      <th>quality</th>\n",
       "    </tr>\n",
       "  </thead>\n",
       "  <tbody>\n",
       "    <tr>\n",
       "      <th>0</th>\n",
       "      <td>7.4</td>\n",
       "      <td>0.70</td>\n",
       "      <td>0.00</td>\n",
       "      <td>1.9</td>\n",
       "      <td>0.076</td>\n",
       "      <td>11.0</td>\n",
       "      <td>34.0</td>\n",
       "      <td>0.9978</td>\n",
       "      <td>3.51</td>\n",
       "      <td>0.56</td>\n",
       "      <td>9.4</td>\n",
       "      <td>1</td>\n",
       "    </tr>\n",
       "    <tr>\n",
       "      <th>1</th>\n",
       "      <td>7.8</td>\n",
       "      <td>0.88</td>\n",
       "      <td>0.00</td>\n",
       "      <td>2.6</td>\n",
       "      <td>0.098</td>\n",
       "      <td>25.0</td>\n",
       "      <td>67.0</td>\n",
       "      <td>0.9968</td>\n",
       "      <td>3.20</td>\n",
       "      <td>0.68</td>\n",
       "      <td>9.8</td>\n",
       "      <td>1</td>\n",
       "    </tr>\n",
       "    <tr>\n",
       "      <th>2</th>\n",
       "      <td>7.8</td>\n",
       "      <td>0.76</td>\n",
       "      <td>0.04</td>\n",
       "      <td>2.3</td>\n",
       "      <td>0.092</td>\n",
       "      <td>15.0</td>\n",
       "      <td>54.0</td>\n",
       "      <td>0.9970</td>\n",
       "      <td>3.26</td>\n",
       "      <td>0.65</td>\n",
       "      <td>9.8</td>\n",
       "      <td>1</td>\n",
       "    </tr>\n",
       "    <tr>\n",
       "      <th>3</th>\n",
       "      <td>11.2</td>\n",
       "      <td>0.28</td>\n",
       "      <td>0.56</td>\n",
       "      <td>1.9</td>\n",
       "      <td>0.075</td>\n",
       "      <td>17.0</td>\n",
       "      <td>60.0</td>\n",
       "      <td>0.9980</td>\n",
       "      <td>3.16</td>\n",
       "      <td>0.58</td>\n",
       "      <td>9.8</td>\n",
       "      <td>1</td>\n",
       "    </tr>\n",
       "    <tr>\n",
       "      <th>4</th>\n",
       "      <td>7.4</td>\n",
       "      <td>0.70</td>\n",
       "      <td>0.00</td>\n",
       "      <td>1.9</td>\n",
       "      <td>0.076</td>\n",
       "      <td>11.0</td>\n",
       "      <td>34.0</td>\n",
       "      <td>0.9978</td>\n",
       "      <td>3.51</td>\n",
       "      <td>0.56</td>\n",
       "      <td>9.4</td>\n",
       "      <td>1</td>\n",
       "    </tr>\n",
       "    <tr>\n",
       "      <th>5</th>\n",
       "      <td>7.4</td>\n",
       "      <td>0.66</td>\n",
       "      <td>0.00</td>\n",
       "      <td>1.8</td>\n",
       "      <td>0.075</td>\n",
       "      <td>13.0</td>\n",
       "      <td>40.0</td>\n",
       "      <td>0.9978</td>\n",
       "      <td>3.51</td>\n",
       "      <td>0.56</td>\n",
       "      <td>9.4</td>\n",
       "      <td>1</td>\n",
       "    </tr>\n",
       "    <tr>\n",
       "      <th>6</th>\n",
       "      <td>7.9</td>\n",
       "      <td>0.60</td>\n",
       "      <td>0.06</td>\n",
       "      <td>1.6</td>\n",
       "      <td>0.069</td>\n",
       "      <td>15.0</td>\n",
       "      <td>59.0</td>\n",
       "      <td>0.9964</td>\n",
       "      <td>3.30</td>\n",
       "      <td>0.46</td>\n",
       "      <td>9.4</td>\n",
       "      <td>1</td>\n",
       "    </tr>\n",
       "    <tr>\n",
       "      <th>7</th>\n",
       "      <td>7.3</td>\n",
       "      <td>0.65</td>\n",
       "      <td>0.00</td>\n",
       "      <td>1.2</td>\n",
       "      <td>0.065</td>\n",
       "      <td>15.0</td>\n",
       "      <td>21.0</td>\n",
       "      <td>0.9946</td>\n",
       "      <td>3.39</td>\n",
       "      <td>0.47</td>\n",
       "      <td>10.0</td>\n",
       "      <td>2</td>\n",
       "    </tr>\n",
       "    <tr>\n",
       "      <th>8</th>\n",
       "      <td>7.8</td>\n",
       "      <td>0.58</td>\n",
       "      <td>0.02</td>\n",
       "      <td>2.0</td>\n",
       "      <td>0.073</td>\n",
       "      <td>9.0</td>\n",
       "      <td>18.0</td>\n",
       "      <td>0.9968</td>\n",
       "      <td>3.36</td>\n",
       "      <td>0.57</td>\n",
       "      <td>9.5</td>\n",
       "      <td>2</td>\n",
       "    </tr>\n",
       "    <tr>\n",
       "      <th>9</th>\n",
       "      <td>7.5</td>\n",
       "      <td>0.50</td>\n",
       "      <td>0.36</td>\n",
       "      <td>6.1</td>\n",
       "      <td>0.071</td>\n",
       "      <td>17.0</td>\n",
       "      <td>102.0</td>\n",
       "      <td>0.9978</td>\n",
       "      <td>3.35</td>\n",
       "      <td>0.80</td>\n",
       "      <td>10.5</td>\n",
       "      <td>1</td>\n",
       "    </tr>\n",
       "  </tbody>\n",
       "</table>\n",
       "</div>"
      ],
      "text/plain": [
       "   fixed acidity  volatile acidity  citric acid  residual sugar  chlorides  \\\n",
       "0            7.4              0.70         0.00             1.9      0.076   \n",
       "1            7.8              0.88         0.00             2.6      0.098   \n",
       "2            7.8              0.76         0.04             2.3      0.092   \n",
       "3           11.2              0.28         0.56             1.9      0.075   \n",
       "4            7.4              0.70         0.00             1.9      0.076   \n",
       "5            7.4              0.66         0.00             1.8      0.075   \n",
       "6            7.9              0.60         0.06             1.6      0.069   \n",
       "7            7.3              0.65         0.00             1.2      0.065   \n",
       "8            7.8              0.58         0.02             2.0      0.073   \n",
       "9            7.5              0.50         0.36             6.1      0.071   \n",
       "\n",
       "   free sulfur dioxide  total sulfur dioxide  density    pH  sulphates  \\\n",
       "0                 11.0                  34.0   0.9978  3.51       0.56   \n",
       "1                 25.0                  67.0   0.9968  3.20       0.68   \n",
       "2                 15.0                  54.0   0.9970  3.26       0.65   \n",
       "3                 17.0                  60.0   0.9980  3.16       0.58   \n",
       "4                 11.0                  34.0   0.9978  3.51       0.56   \n",
       "5                 13.0                  40.0   0.9978  3.51       0.56   \n",
       "6                 15.0                  59.0   0.9964  3.30       0.46   \n",
       "7                 15.0                  21.0   0.9946  3.39       0.47   \n",
       "8                  9.0                  18.0   0.9968  3.36       0.57   \n",
       "9                 17.0                 102.0   0.9978  3.35       0.80   \n",
       "\n",
       "   alcohol  quality  \n",
       "0      9.4        1  \n",
       "1      9.8        1  \n",
       "2      9.8        1  \n",
       "3      9.8        1  \n",
       "4      9.4        1  \n",
       "5      9.4        1  \n",
       "6      9.4        1  \n",
       "7     10.0        2  \n",
       "8      9.5        2  \n",
       "9     10.5        1  "
      ]
     },
     "execution_count": 6,
     "metadata": {},
     "output_type": "execute_result"
    }
   ],
   "source": [
    "# group quality into low, median, high quality\n",
    "for i in range(0,df.count().quality):\n",
    "    if df.loc[i,'quality'] == 3 or df.loc[i,'quality'] == 4:\n",
    "        df.loc[i,'quality'] = 0\n",
    "    elif df.loc[i,'quality'] == 5 or df.loc[i,'quality'] == 6 :\n",
    "        df.loc[i,'quality'] = 1\n",
    "    else : \n",
    "        df.loc[i,'quality'] = 2\n",
    "df.head(10)"
   ]
  },
  {
   "cell_type": "code",
   "execution_count": 7,
   "metadata": {},
   "outputs": [
    {
     "data": {
      "text/html": [
       "<div>\n",
       "<style scoped>\n",
       "    .dataframe tbody tr th:only-of-type {\n",
       "        vertical-align: middle;\n",
       "    }\n",
       "\n",
       "    .dataframe tbody tr th {\n",
       "        vertical-align: top;\n",
       "    }\n",
       "\n",
       "    .dataframe thead th {\n",
       "        text-align: right;\n",
       "    }\n",
       "</style>\n",
       "<table border=\"1\" class=\"dataframe\">\n",
       "  <thead>\n",
       "    <tr style=\"text-align: right;\">\n",
       "      <th></th>\n",
       "      <th>Number of missing values</th>\n",
       "    </tr>\n",
       "  </thead>\n",
       "  <tbody>\n",
       "    <tr>\n",
       "      <th>fixed acidity</th>\n",
       "      <td>0</td>\n",
       "    </tr>\n",
       "    <tr>\n",
       "      <th>volatile acidity</th>\n",
       "      <td>0</td>\n",
       "    </tr>\n",
       "    <tr>\n",
       "      <th>citric acid</th>\n",
       "      <td>0</td>\n",
       "    </tr>\n",
       "    <tr>\n",
       "      <th>residual sugar</th>\n",
       "      <td>0</td>\n",
       "    </tr>\n",
       "    <tr>\n",
       "      <th>chlorides</th>\n",
       "      <td>0</td>\n",
       "    </tr>\n",
       "    <tr>\n",
       "      <th>free sulfur dioxide</th>\n",
       "      <td>0</td>\n",
       "    </tr>\n",
       "    <tr>\n",
       "      <th>total sulfur dioxide</th>\n",
       "      <td>0</td>\n",
       "    </tr>\n",
       "    <tr>\n",
       "      <th>density</th>\n",
       "      <td>0</td>\n",
       "    </tr>\n",
       "    <tr>\n",
       "      <th>pH</th>\n",
       "      <td>0</td>\n",
       "    </tr>\n",
       "    <tr>\n",
       "      <th>sulphates</th>\n",
       "      <td>0</td>\n",
       "    </tr>\n",
       "    <tr>\n",
       "      <th>alcohol</th>\n",
       "      <td>0</td>\n",
       "    </tr>\n",
       "    <tr>\n",
       "      <th>quality</th>\n",
       "      <td>0</td>\n",
       "    </tr>\n",
       "  </tbody>\n",
       "</table>\n",
       "</div>"
      ],
      "text/plain": [
       "                      Number of missing values\n",
       "fixed acidity                                0\n",
       "volatile acidity                             0\n",
       "citric acid                                  0\n",
       "residual sugar                               0\n",
       "chlorides                                    0\n",
       "free sulfur dioxide                          0\n",
       "total sulfur dioxide                         0\n",
       "density                                      0\n",
       "pH                                           0\n",
       "sulphates                                    0\n",
       "alcohol                                      0\n",
       "quality                                      0"
      ]
     },
     "execution_count": 7,
     "metadata": {},
     "output_type": "execute_result"
    }
   ],
   "source": [
    "missing_data = pd.DataFrame(df.isnull().sum(), columns= ['Number of missing values'])\n",
    "missing_data"
   ]
  },
  {
   "cell_type": "markdown",
   "metadata": {},
   "source": [
    "We also check the missing data of the our dataset. We find that there is no missing data, so we don't need to deal with it."
   ]
  },
  {
   "cell_type": "markdown",
   "metadata": {},
   "source": [
    "Here is the description of our final dataset. In our final dataset, we have 1599 instances and 12 features.<br />\n",
    "- fixed acidity: most acids involved with wine or fixed or nonvolatile (do not evaporate readily). (float)<br />\n",
    "- citric acid: found in small quantities, citric acid can add 'freshness' and flavor to wines. (float)<br />\n",
    "- residual sugar: the amount of sugar remaining after fermentation stops, it's rare to find wines with less than 1 gram/liter and wines with greater than 45 grams/liter are considered sweet. (float)<br />\n",
    "- free sulfur dioxide: the free form of SO2 exists in equilibrium between molecular SO2 (as a dissolved gas) and bisulfite ion; it prevents microbial growth and the oxidation of wine. (float)<br />\n",
    "- total sulfur dioxide: amount of free and bound forms of S02; in low concentrations, SO2 is mostly undetectable in wine, but at free SO2 concentrations over 50 ppm, SO2 becomes evident in the nose and taste of wine. (float)<br />\n",
    "- pH: describes how acidic or basic a wine is on a scale from 0 (very acidic) to 14 (very basic); most wines are between 3-4 on the pH scale. (float)<br />\n",
    "- sulphates: a wine additive which can contribute to sulfur dioxide gas (S02) levels, wich acts as an antimicrobial and antioxidant. (float)<br />\n",
    "- alcohol: the percent alcohol content of the wine. (float)<br />\n",
    "- quality: output variable, divided into three groups: 0-poor quality, 1-medium quality, 2-high quality. (int)<br />"
   ]
  },
  {
   "cell_type": "code",
   "execution_count": 8,
   "metadata": {},
   "outputs": [
    {
     "data": {
      "text/plain": [
       "<matplotlib.axes._subplots.AxesSubplot at 0x123f37be0>"
      ]
     },
     "execution_count": 8,
     "metadata": {},
     "output_type": "execute_result"
    },
    {
     "data": {
      "image/png": "[encoded data removed]",
      "text/plain": [
       "<Figure size 1080x504 with 1 Axes>"
      ]
     },
     "metadata": {},
     "output_type": "display_data"
    }
   ],
   "source": [
    "plt.figure(figsize=(15,7))\n",
    "sns.countplot(x = df['quality'])"
   ]
  },
  {
   "cell_type": "markdown",
   "metadata": {},
   "source": [
    "We can see from the figure that the proportion of medium-quality red wine is around 70%."
   ]
  },
  {
   "cell_type": "markdown",
   "metadata": {},
   "source": [
    "Then I drew the bar graph between the quality, alcohol and citric acid according to the correlation graph."
   ]
  },
  {
   "cell_type": "code",
   "execution_count": 9,
   "metadata": {},
   "outputs": [
    {
     "data": {
      "text/plain": [
       "<matplotlib.axes._subplots.AxesSubplot at 0x123f56fd0>"
      ]
     },
     "execution_count": 9,
     "metadata": {},
     "output_type": "execute_result"
    },
    {
     "data": {
      "image/png": "[encoded data removed]",
      "text/plain": [
       "<Figure size 720x432 with 1 Axes>"
      ]
     },
     "metadata": {},
     "output_type": "display_data"
    }
   ],
   "source": [
    "fig = plt.figure(figsize = (10,6))\n",
    "sns.barplot(x = 'quality', y = 'alcohol', data = df)"
   ]
  },
  {
   "cell_type": "markdown",
   "metadata": {},
   "source": [
    "We can see that the alcohol content is mostly between 8 and 12, with a median of 10.2 and an average of 10.42. Most of the differences in alcohol content were not significant, but we could still see that red wines with the best taste and ratings had the highest alcohol content.<br />\n",
    "At the same time, we found that although the difference in alcohol content was not significant, the alcohol content was determined by the degree of wine fermentation, so the change in alcohol content was closely related to the final score."
   ]
  },
  {
   "cell_type": "code",
   "execution_count": 10,
   "metadata": {},
   "outputs": [
    {
     "data": {
      "text/plain": [
       "<matplotlib.axes._subplots.AxesSubplot at 0x12418d710>"
      ]
     },
     "execution_count": 10,
     "metadata": {},
     "output_type": "execute_result"
    },
    {
     "data": {
      "image/png": "[encoded data removed]",
      "text/plain": [
       "<Figure size 720x432 with 1 Axes>"
      ]
     },
     "metadata": {},
     "output_type": "display_data"
    }
   ],
   "source": [
    "fig = plt.figure(figsize = (10,6))\n",
    "sns.barplot(x = 'quality', y ='citric acid', data = df)"
   ]
  },
  {
   "cell_type": "markdown",
   "metadata": {},
   "source": [
    "The relationship between citric acid and quality was found to be linear. Although the overall amount of citric acid was small, the higher the citric acid was, the higher the quality of red wine was. This makes sense because citric acid is an additive that, to a certain extent, can improve the freshness and taste of red wine."
   ]
  },
  {
   "cell_type": "markdown",
   "metadata": {},
   "source": [
    "#### Split Data"
   ]
  },
  {
   "cell_type": "markdown",
   "metadata": {},
   "source": [
    "We decided to divide our data into training and testing data using an 80% training and 20% testing split. There are totally 1599 instances in our dateset, after spliting, we have 1279 instances, which is enough to train.And this size of the training set will also allow us to quickly get the training model. For the testing set, 320 instances can help us to check the accuracy of our model. If we split the data into 7:3, I think the data of the training set will be a little bit less, which will affect the accuracy of our model. If we split our data into 9:1, we will not have enough data to verify the accuracy of the model. So, we decided to use 80/20 split, it is appropriate for our dataset."
   ]
  },
  {
   "cell_type": "code",
   "execution_count": 11,
   "metadata": {},
   "outputs": [
    {
     "name": "stdout",
     "output_type": "stream",
     "text": [
      "Training data instances number: 1279\n",
      "Testing data instances number: 320\n"
     ]
    }
   ],
   "source": [
    "from sklearn.model_selection import train_test_split\n",
    "import warnings\n",
    "warnings.simplefilter(\"ignore\", DeprecationWarning)\n",
    "\n",
    "X = df.drop([\"quality\"], axis=1)\n",
    "y = df[\"quality\"]\n",
    "#y = pd.get_dummies(y).values\n",
    "X_train, X_test, y_train, y_test = train_test_split(X, y, test_size=0.20)\n",
    "print(\"Training data instances number:\",X_train.shape[0])\n",
    "print(\"Testing data instances number:\",X_test.shape[0])"
   ]
  },
  {
   "cell_type": "markdown",
   "metadata": {},
   "source": [
    "## Modeling"
   ]
  },
  {
   "cell_type": "markdown",
   "metadata": {},
   "source": [
    "Firstly, let's import the template shown on the class.   \n",
    "In the template, class 'BinaryLogisticRegression' inherits from class 'BinaryLogisticRegressionBase', class 'VectorBinaryLogisticRegression' inherits from class 'BinaryLogisticRegression'. And the class 'LogisticRegression' uses the function '_get_gradient' in class 'VectorBinaryLogisticRegression'."
   ]
  },
  {
   "cell_type": "code",
   "execution_count": 12,
   "metadata": {},
   "outputs": [],
   "source": [
    "import numpy as np\n",
    "from scipy.special import expit\n",
    "\n",
    "class BinaryLogisticRegressionBase:\n",
    "    # private:\n",
    "    def __init__(self, eta, iterations=200,C=0.001):\n",
    "        self.eta = eta\n",
    "        self.iters = iterations\n",
    "        self.C = C\n",
    "        # internally we will store the weights as self.w_ to keep with sklearn conventions\n",
    "    \n",
    "    def __str__(self):\n",
    "        return 'Base Binary Logistic Regression Object, Not Trainable'\n",
    "    \n",
    "    # convenience, private and static:\n",
    "    @staticmethod\n",
    "    def _sigmoid(theta):  #private in '_'\n",
    "        return 1/(1+np.exp(-theta)) \n",
    "    \n",
    "    @staticmethod\n",
    "    def _add_bias(X):\n",
    "        return np.hstack((np.ones((X.shape[0],1)),X)) # add bias term\n",
    "    \n",
    "    # public:\n",
    "    def predict_proba(self,X,add_bias=True):\n",
    "        # add bias term if requested\n",
    "        Xb = self._add_bias(X) if add_bias else X\n",
    "        return self._sigmoid(Xb @ self.w_) # return the probability y=1\n",
    "    \n",
    "    def predict(self,X):\n",
    "        return (self.predict_proba(X)>0.5) #return the actual prediction\n",
    "    \n",
    "    \n",
    "# inherit from base class\n",
    "class BinaryLogisticRegression(BinaryLogisticRegressionBase):\n",
    "    #private:\n",
    "    def __str__(self):\n",
    "        if(hasattr(self,'w_')):\n",
    "            return 'Binary Logistic Regression Object with coefficients:\\n'+ str(self.w_) # is we have trained the object\n",
    "        else:\n",
    "            return 'Untrained Binary Logistic Regression Object'\n",
    "        \n",
    "    def _get_gradient(self,X,y):\n",
    "        # programming \\sum_i (yi-g(xi))xi\n",
    "        gradient = np.zeros(self.w_.shape) # set gradient to zero\n",
    "        for (xi,yi) in zip(X,y):\n",
    "            # the actual update inside of sum\n",
    "            gradi = (yi - self.predict_proba(xi,add_bias=False))*xi \n",
    "            # reshape to be column vector and add to gradient\n",
    "            gradient += gradi.reshape(self.w_.shape) \n",
    "        \n",
    "        return gradient/float(len(y))\n",
    "       \n",
    "    # public:\n",
    "    def fit(self, X, y):\n",
    "        Xb = self._add_bias(X) # add bias term  column of 1s\n",
    "        num_samples, num_features = Xb.shape\n",
    "        \n",
    "        self.w_ = np.zeros((num_features,1)) # init weight vector to zeros\n",
    "        \n",
    "        # for as many as the max iterations\n",
    "        for _ in range(self.iters):\n",
    "            gradient = self._get_gradient(Xb,y)\n",
    "            self.w_ += gradient*self.eta # multiply by learning rate \n",
    "\n",
    "\n",
    "class VectorBinaryLogisticRegression(BinaryLogisticRegression):\n",
    "    # inherit from our previous class to get same functionality\n",
    "    @staticmethod\n",
    "    def _sigmoid(theta):\n",
    "        # increase stability, redefine sigmoid operation\n",
    "        return expit(theta) #1/(1+np.exp(-theta))\n",
    "    \n",
    "    # but overwrite the gradient calculation\n",
    "    def _get_gradient(self,X,y):\n",
    "        ydiff = y-self.predict_proba(X,add_bias=False).ravel() # get y difference\n",
    "        gradient = np.mean(X * ydiff[:,np.newaxis], axis=0) # make ydiff a column vector and multiply through\n",
    "        \n",
    "        return gradient.reshape(self.w_.shape)\n",
    "\n",
    "    \n",
    "class LogisticRegression:\n",
    "    def __init__(self, eta, iterations=20):\n",
    "        self.eta = eta\n",
    "        self.iters = iterations\n",
    "        # internally we will store the weights as self.w_ to keep with sklearn conventions\n",
    "    \n",
    "    def __str__(self):\n",
    "        if(hasattr(self,'w_')):\n",
    "            return 'MultiClass Logistic Regression Object with coefficients:\\n'+ str(self.w_) # is we have trained the object\n",
    "        else:\n",
    "            return 'Untrained MultiClass Logistic Regression Object'\n",
    "        \n",
    "    def fit(self,X,y):\n",
    "        num_samples, num_features = X.shape\n",
    "        self.unique_ = np.unique(y) # get each unique class value\n",
    "        num_unique_classes = len(self.unique_)\n",
    "        self.classifiers_ = [] # will fill this array with binary classifiers\n",
    "        \n",
    "        for i,yval in enumerate(self.unique_): # for each unique value\n",
    "            y_binary = y==yval # create a binary problem\n",
    "            # train the binary classifier for this class\n",
    "            blr = VectorBinaryLogisticRegression(self.eta,self.iters)\n",
    "            blr.fit(X,y_binary)\n",
    "            # add the trained classifier to the list\n",
    "            self.classifiers_.append(blr)\n",
    "            \n",
    "        # save all the weights into one matrix, separate column for each class\n",
    "        self.w_ = np.hstack([x.w_ for x in self.classifiers_]).T\n",
    "        \n",
    "    def predict_proba(self,X):\n",
    "        probs = []\n",
    "        for blr in self.classifiers_:\n",
    "            probs.append(blr.predict_proba(X)) # get probability for each classifier\n",
    "        \n",
    "        return np.hstack(probs) # make into single matrix\n",
    "    \n",
    "    def predict(self,X):\n",
    "        return np.argmax(self.predict_proba(X),axis=1) # take argmax along row\n",
    "        "
   ]
  },
  {
   "cell_type": "markdown",
   "metadata": {},
   "source": [
    "We use instructor's template to do the Logistic Regression and output the accuracy of it."
   ]
  },
  {
   "cell_type": "code",
   "execution_count": 13,
   "metadata": {},
   "outputs": [
    {
     "name": "stdout",
     "output_type": "stream",
     "text": [
      "Accuracy of:  0.81875\n"
     ]
    }
   ],
   "source": [
    "from sklearn.metrics import accuracy_score\n",
    "\n",
    "lr = LogisticRegression(0.1,200)\n",
    "lr.fit(X_train,y_train)\n",
    "\n",
    "yhat = lr.predict(X_test)\n",
    "#print(yhat)\n",
    "print('Accuracy of: ',accuracy_score(y_test,yhat))"
   ]
  },
  {
   "cell_type": "markdown",
   "metadata": {},
   "source": [
    "We used 'steepest descent' first and the accuracy is 0.819, which is high enough to continue further works."
   ]
  },
  {
   "cell_type": "markdown",
   "metadata": {},
   "source": [
    "Then use SKLogisticRegression API to compare the accuracy of regression."
   ]
  },
  {
   "cell_type": "code",
   "execution_count": 14,
   "metadata": {},
   "outputs": [
    {
     "name": "stdout",
     "output_type": "stream",
     "text": [
      "[[-0.33879308 -0.10768547  3.32195777  0.06961176  0.03022779  0.51619843\n",
      "  -0.00365329 -0.01782196 -0.33787413  0.21931126 -0.14420151 -0.3546536 ]\n",
      " [ 1.46142447  0.10675482  0.30259554 -0.63700197 -0.07844977  0.90455554\n",
      "  -0.00463588  0.01771461  1.48238338  1.80780544 -1.72259224 -0.70951619]\n",
      " [-1.32343934 -0.09976123 -2.90612124  0.31400655  0.11245479 -1.23439118\n",
      "   0.01169066 -0.01812143 -1.33693467 -2.59350199  2.19468999  0.95522055]]\n",
      "Accuracy of:  0.821875\n",
      "CPU times: user 190 ms, sys: 41.4 ms, total: 232 ms\n",
      "Wall time: 609 ms\n"
     ]
    },
    {
     "name": "stderr",
     "output_type": "stream",
     "text": [
      "/Library/Frameworks/Python.framework/Versions/3.6/lib/python3.6/site-packages/sklearn/linear_model/logistic.py:433: FutureWarning: Default solver will be changed to 'lbfgs' in 0.22. Specify a solver to silence this warning.\n",
      "  FutureWarning)\n",
      "/Library/Frameworks/Python.framework/Versions/3.6/lib/python3.6/site-packages/sklearn/linear_model/logistic.py:460: FutureWarning: Default multi_class will be changed to 'auto' in 0.22. Specify the multi_class option to silence this warning.\n",
      "  \"this warning.\", FutureWarning)\n"
     ]
    }
   ],
   "source": [
    "%%time\n",
    "from sklearn.linear_model import LogisticRegression as SKLogisticRegression\n",
    "\n",
    "lr_sk = SKLogisticRegression() # all params default\n",
    "\n",
    "lr_sk.fit(X_train,y_train)\n",
    "print(np.hstack((lr_sk.intercept_[:,np.newaxis],lr_sk.coef_)))\n",
    "yhat = lr_sk.predict(X_test)\n",
    "print('Accuracy of: ',accuracy_score(y_test,yhat))"
   ]
  },
  {
   "cell_type": "markdown",
   "metadata": {},
   "source": [
    "We could find the accuracy of SKLogisticRegression API is little higer than 'steepest descent'.\n",
    "### One-versus-all Logistic Regression and Customizable Regularization Classifier"
   ]
  },
  {
   "cell_type": "markdown",
   "metadata": {},
   "source": [
    "We create a new class 'RegularizedBinaryLogisticRegression', and we set these three optimization techniques as private functions in this class, which are named '_steepest_get_gradient', '_stochastic_get_gradient' and '_newton_get_gradient'. We also set a classifier to determine which function to use depending on the input parameter.<br />"
   ]
  },
  {
   "cell_type": "markdown",
   "metadata": {},
   "source": [
    "We create a new class 'RegularizedBinaryLogisticRegression', and we set these three optimization techniques as private functions in this class, which are named '_steepest_get_gradient', '_stochastic_get_gradient' and '_newton_get_gradient'."
   ]
  },
  {
   "cell_type": "markdown",
   "metadata": {},
   "source": [
    "The formula of steepest descent method as follows:<br />\n",
    "$$gradient =\\sum_{i=1}^M (y^{(i)}-g(\\mathbf{w}^T\\mathbf{x}^{(i)}))\\mathbf{x}^{(i)}$$"
   ]
  },
  {
   "cell_type": "markdown",
   "metadata": {},
   "source": [
    "The formula of stochastic method as follows:<br />\n",
    "$$ \\mathbf{w} \\leftarrow \\mathbf{w} + \\eta \\underbrace{\\left((y^{(i)}-g(\\mathbf{w}^T\\mathbf{x}^{(i)}))\\mathbf{x}^{(i)}-2C\\cdot \\mathbf{w}\\right)}_{\\text{approx. gradient}} \\text{,   where   } i\\in M$$ \n",
    "We random select data to train the model."
   ]
  },
  {
   "cell_type": "markdown",
   "metadata": {},
   "source": [
    "The formula of newton method as follows:<br />\n",
    "$$ \\mathbf{w} \\leftarrow \\mathbf{w} + \\eta \\cdot \\underbrace{\\mathbf{H}[l(\\mathbf{w})]^{-1}}_{\\text{inverse Hessian}}\\cdot\\underbrace{\\nabla l(\\mathbf{w})}_{\\text{gradient}}$$\n",
    "$$ \\mathbf{w} \\leftarrow \\mathbf{w} + \\eta \\cdot \\underbrace{\\left[\\mathbf{X}^T \\cdot \\text{diag}\\left[g(\\mathbf{X}\\cdot\\mathbf{w})(1-g(\\mathbf{X}\\cdot\\mathbf{w}))\\right] \\cdot \\mathbf{X} -2C \\right]^{-1} }_{\\text{inverse Hessian}} \\cdot \\underbrace{\\mathbf{X}*y_{diff}}_{\\text{gradient}}$$"
   ]
  },
  {
   "cell_type": "markdown",
   "metadata": {},
   "source": [
    "For selecter, we rewrite the private functions-'_get_gradient' to determine which function to calculate the gradient and regularize it depending on the input parameters.<br />"
   ]
  },
  {
   "cell_type": "code",
   "execution_count": 15,
   "metadata": {},
   "outputs": [
    {
     "name": "stdout",
     "output_type": "stream",
     "text": [
      "CPU times: user 60 µs, sys: 1 µs, total: 61 µs\n",
      "Wall time: 68.2 µs\n"
     ]
    }
   ],
   "source": [
    "%%time\n",
    "from numpy.linalg import pinv\n",
    "class RegularizedBinaryLogisticRegression(BinaryLogisticRegression):\n",
    "    def __init__(self, technique=\"steepest\", C=0.1, eta=0.1,reg=\"L1\", **kwargs):\n",
    "        self.technique = technique\n",
    "        self.C = C\n",
    "        self.reg = reg\n",
    "        super().__init__(eta=eta, **kwargs)\n",
    "        \n",
    "    def _steepest_get_gradient(self,X,y):\n",
    "        # print(\"steepest\")\n",
    "        ydiff = y-self.predict_proba(X,add_bias=False).ravel() # get y difference\n",
    "        gradient = np.mean(X * ydiff[:,np.newaxis], axis=0) # make ydiff a column vector and multiply through\n",
    "        \n",
    "        gradient = gradient.reshape(self.w_.shape)\n",
    "        gradient[1:] += -2 * self.w_[1:] * self.C\n",
    "        \n",
    "        return gradient\n",
    "    \n",
    "    def _stochastic_get_gradient(self,X,y):\n",
    "        # print(\"stochastic\")\n",
    "        #print(self.eta)\n",
    "        idx = int(np.random.rand()*len(y)) # grab random instance\n",
    "        ydiff = y[idx]-self.predict_proba(X[idx],add_bias=False) # get y difference (now scalar)\n",
    "        gradient = X[idx] * ydiff[:,np.newaxis] # make ydiff a column vector and multiply through\n",
    "        \n",
    "        gradient = gradient.reshape(self.w_.shape)\n",
    "        gradient[1:] += -2 * self.w_[1:] * self.C\n",
    "        \n",
    "        return gradient\n",
    "    \n",
    "    def _newton_get_gradient(self,X,y):\n",
    "        # print(\"newton\")\n",
    "        g = self.predict_proba(X,add_bias=False).ravel() # get sigmoid value for all classes\n",
    "        hessian = X.T @ np.diag(g*(1-g)) @ X - 2 * self.C # calculate the hessian\n",
    "\n",
    "        ydiff = y-g # get y difference\n",
    "        gradient = np.sum(X * ydiff[:,np.newaxis], axis=0) # make ydiff a column vector and multiply through\n",
    "        gradient = gradient.reshape(self.w_.shape)\n",
    "        gradient[1:] += -2 * self.w_[1:] * self.C\n",
    "        \n",
    "        return pinv(hessian) @ gradient\n",
    "\n",
    "    def _get_gradient(self,X,y):\n",
    "        if self.technique == \"stochastic\":\n",
    "            gradient = self._stochastic_get_gradient(X, y)\n",
    "        elif self.technique == \"newton\":\n",
    "            gradient = self._newton_get_gradient(X, y)\n",
    "        elif self.technique == \"steepest\":\n",
    "            gradient = self._steepest_get_gradient(X, y)\n",
    "        else:\n",
    "            return\n",
    "        \n",
    "        if self.reg == \"L1\":\n",
    "            # print(\"L1\")\n",
    "            gradient[1:] += np.sign(self.w_[1:]) * self.C  # exclude bias term\n",
    "        elif self.reg == \"L2\":\n",
    "            # derivative of the L2 Norm of the weights, exclude bias term  piecewise function np.sign\n",
    "            gradient[1:] += -2 * self.w_[1:] * self.C  \n",
    "        elif self.reg == \"L1L2\":\n",
    "            gradient[1:] += (np.sign(self.w_[1:]) * self.C) + (-2 * self.w_[1:] * self.C)\n",
    "        else:\n",
    "            pass\n",
    "                \n",
    "        return gradient\n",
    "    "
   ]
  },
  {
   "cell_type": "markdown",
   "metadata": {},
   "source": [
    "We define the method to do regularization.<br />\n",
    "We set a class 'RegularizedLogisticRegression' inherit from class 'LogisticRegression'. We initiate 'C' , 'eta' , 'technoque' , 'reg' and 'iters', which are all paremeters we need to do regularization. We rewrite the function 'fit' to call class 'RegularizedBinaryLogisticRegression' to regularizate the model to prevent overfitting."
   ]
  },
  {
   "cell_type": "markdown",
   "metadata": {},
   "source": [
    "For L1, we changed our objective function by adding in C + W, the formula as follows:\n",
    "$$ l(\\mathbf{w})_{reg} = l(\\mathbf{w})_{old} - C\\cdot\\sum_j w_j $$\n",
    "For L2, we changed our objective function by adding in C + W'square, the formula as follows:\n",
    "$$ l(\\mathbf{w})_{reg} = l(\\mathbf{w})_{old} - C\\cdot\\sum_j w_j^2 $$"
   ]
  },
  {
   "cell_type": "code",
   "execution_count": 16,
   "metadata": {},
   "outputs": [],
   "source": [
    "# now redefine the Logistic Regression Function where needed\n",
    "class RegularizedLogisticRegression(LogisticRegression):\n",
    "    def __init__(self, eta=0.1, iters=20, technique=\"steepest\", C=0.5, reg=\"L1\", **kwargs):        \n",
    "        # need to add to the original initializer \n",
    "        self.C = C\n",
    "        self.eta = eta\n",
    "        self.technique = technique\n",
    "        self.reg = reg\n",
    "        self.iters = iters\n",
    "        # but keep other keywords\n",
    "        super().__init__(eta=eta, **kwargs)\n",
    "        \n",
    "    def fit(self,X,y):\n",
    "        num_samples, num_features = X.shape\n",
    "        self.unique_ = np.unique(y) # get each unique class value\n",
    "        num_unique_classes = len(self.unique_)\n",
    "        self.classifiers_ = [] # will fill this array with binary classifiers\n",
    "        \n",
    "        for i,yval in enumerate(self.unique_): # for each unique value\n",
    "            y_binary = y==yval # create a binary problem\n",
    "            # train the binary classifier for this class\n",
    "            blr = RegularizedBinaryLogisticRegression(eta=self.eta,\n",
    "                                                      iterations=self.iters,\n",
    "                                                      C=self.C,\n",
    "                                                      technique = self.technique,\n",
    "                                                      reg = self.reg)\n",
    "            blr.fit(X,y_binary)\n",
    "            # add the trained classifier to the list\n",
    "            self.classifiers_.append(blr)\n",
    "            \n",
    "        # save all the weights into one matrix, separate column for each class\n",
    "        self.w_ = np.hstack([x.w_ for x in self.classifiers_]).T"
   ]
  },
  {
   "cell_type": "markdown",
   "metadata": {},
   "source": [
    "### Comparison\n",
    "We do the logistic regression using three methods.<br />\n",
    "First, we do with steepest descent method."
   ]
  },
  {
   "cell_type": "code",
   "execution_count": 17,
   "metadata": {},
   "outputs": [
    {
     "name": "stderr",
     "output_type": "stream",
     "text": [
      "/Library/Frameworks/Python.framework/Versions/3.6/lib/python3.6/site-packages/ipykernel_launcher.py:18: RuntimeWarning: overflow encountered in exp\n"
     ]
    },
    {
     "name": "stdout",
     "output_type": "stream",
     "text": [
      "MultiClass Logistic Regression Object with coefficients:\n",
      "[[ 0.01763382 -0.16177242  0.17535479 -0.0840398   0.13862063 -0.01049725\n",
      "  -0.28861056 -1.05652145  0.01939003  0.11733703 -0.04859649 -0.0733074 ]\n",
      " [ 0.16651955  0.64804717  0.24617854 -0.16761094 -0.30755586  0.05075677\n",
      "   0.83231343  2.97079788  0.17936713  0.5662838  -0.09913216 -0.45538185]\n",
      " [-0.21905747 -0.65998771 -0.42734254  0.22997355  0.04962531 -0.06246044\n",
      "  -0.73611078 -2.47783453 -0.23336861 -0.79452177  0.11277483  0.1102377 ]]\n",
      "Accuracy of:  0.81875\n"
     ]
    }
   ],
   "source": [
    "from sklearn.metrics import accuracy_score\n",
    "\n",
    "rlr_s = RegularizedLogisticRegression(eta=0.1, technique=\"steepest\", C=0.01,iterations=200,reg=\"L1\")\n",
    "rlr_s.fit(X,y)\n",
    "print(rlr_s)\n",
    "\n",
    "yhat = rlr_s.predict(X_test)\n",
    "print('Accuracy of: ',accuracy_score(y_test,yhat))"
   ]
  },
  {
   "cell_type": "markdown",
   "metadata": {},
   "source": [
    "The accuracy is 0.81875.<br />\n",
    "Then, we do with stochastic method."
   ]
  },
  {
   "cell_type": "code",
   "execution_count": 18,
   "metadata": {},
   "outputs": [
    {
     "name": "stdout",
     "output_type": "stream",
     "text": [
      "Binary Logistic Regression Object with coefficients:\n",
      "[[ 1.05250566]\n",
      " [ 9.23611868]\n",
      " [ 0.45693758]\n",
      " [ 0.37576867]\n",
      " [ 3.27140363]\n",
      " [ 0.08428774]\n",
      " [12.49468359]\n",
      " [31.12924618]\n",
      " [ 1.0442813 ]\n",
      " [ 3.38165652]\n",
      " [ 0.73548756]\n",
      " [12.22665489]]\n",
      "Accuracy of:  0.81875\n"
     ]
    }
   ],
   "source": [
    "from sklearn.metrics import accuracy_score\n",
    "\n",
    "rlr_t = RegularizedBinaryLogisticRegression(eta=0.1, technique=\"stochastic\", C=0.01,iterations=100,reg=\"L1\")\n",
    "rlr_t.fit(X,y)\n",
    "print(rlr_t)\n",
    "\n",
    "yhat = rlr_t.predict(X_test)\n",
    "print('Accuracy of: ',accuracy_score(y_test,yhat))"
   ]
  },
  {
   "cell_type": "markdown",
   "metadata": {},
   "source": [
    "The accuracy is 0.81875.<br />\n",
    "Finally, we do with newton method."
   ]
  },
  {
   "cell_type": "code",
   "execution_count": 28,
   "metadata": {},
   "outputs": [
    {
     "name": "stdout",
     "output_type": "stream",
     "text": [
      "Binary Logistic Regression Object with coefficients:\n",
      "[[ 1.28334810e+01]\n",
      " [ 8.28235861e-03]\n",
      " [-1.11403770e+00]\n",
      " [ 4.39375881e-02]\n",
      " [ 1.84810560e-02]\n",
      " [-2.28918624e+00]\n",
      " [ 1.62663560e-04]\n",
      " [-7.92873855e-04]\n",
      " [-1.23672752e+01]\n",
      " [-7.39509295e-01]\n",
      " [ 9.38654051e-01]\n",
      " [ 3.16511102e-01]]\n",
      "Accuracy of:  0.821875\n"
     ]
    }
   ],
   "source": [
    "from sklearn.metrics import accuracy_score\n",
    "\n",
    "rlr_n = RegularizedBinaryLogisticRegression(eta=0.1,iterations=6,C=0.001, technique=\"newton\", reg=\"L1\")\n",
    "rlr_n.fit(X,y)\n",
    "print(rlr_n)\n",
    "\n",
    "yhat = rlr_n.predict(X_test)\n",
    "print('Accuracy of: ',accuracy_score(y_test,yhat))"
   ]
  },
  {
   "cell_type": "markdown",
   "metadata": {},
   "source": [
    "The accuracy is 0.82.<br />"
   ]
  },
  {
   "cell_type": "markdown",
   "metadata": {},
   "source": [
    "We could find the accuracies in these three method are almost the same. We could not find the optimized method accoding to this result, but we think the reason is dataset instead of the model.<br />\n",
    "After analysing, we conclude that our data is specially divided into three groups, 0, 1 and 2. But the percentage of '1' is about 70%. Therefore, when we use these three methods to find the optimal solution, even the coefficients results are different, the predicted result tends to be biased into the class 1. So, this is the situation that accuracies are same even if the optimal weight w is different. <br />\n",
    "We think if the input dataset is distributed evenly, we could find the optimized method through the classifier."
   ]
  },
  {
   "cell_type": "markdown",
   "metadata": {},
   "source": [
    "### Parameters Justify"
   ]
  },
  {
   "cell_type": "markdown",
   "metadata": {},
   "source": [
    "Then, we did regularization. We try every regularization in every optimnization method, and put the accuracy into a accuracies list."
   ]
  },
  {
   "cell_type": "code",
   "execution_count": 20,
   "metadata": {},
   "outputs": [
    {
     "name": "stdout",
     "output_type": "stream",
     "text": [
      "stochastic_L1\n"
     ]
    },
    {
     "name": "stderr",
     "output_type": "stream",
     "text": [
      "/Library/Frameworks/Python.framework/Versions/3.6/lib/python3.6/site-packages/ipykernel_launcher.py:18: RuntimeWarning: overflow encountered in exp\n"
     ]
    },
    {
     "name": "stdout",
     "output_type": "stream",
     "text": [
      "stochastic_L2\n",
      "stochastic_L1L2\n",
      "stochastic_none\n",
      "steepest_L1\n",
      "steepest_L2\n",
      "steepest_L1L2\n",
      "steepest_none\n",
      "newton_L1\n",
      "newton_L2\n",
      "newton_L1L2\n",
      "newton_none\n"
     ]
    }
   ],
   "source": [
    "accuracies = {}\n",
    "\n",
    "optimization_techniques =  [\"stochastic\", \"steepest\", \"newton\"]\n",
    "regs = [\"L1\", \"L2\", \"L1L2\", \"none\"]\n",
    "\n",
    "C_interval = np.linspace (0.01, 1, 100)\n",
    "\n",
    "for technique in optimization_techniques:\n",
    "    for reg in regs:\n",
    "        name = technique + \"_\" + reg\n",
    "        print(name)\n",
    "        accuracies[name] = []\n",
    "        for C in C_interval:\n",
    "            if technique != \"newton\":\n",
    "                rlr = RegularizedLogisticRegression(eta=0.1, reg=reg, technique=technique, C=C, iters=500)\n",
    "                rlr.fit(X, y)\n",
    "            else:\n",
    "                rlr = RegularizedLogisticRegression(eta=0.1, reg=reg, technique=technique, C=C, iters=10)\n",
    "                rlr.fit(X, y)\n",
    "                \n",
    "\n",
    "            yhat = rlr.predict(X_test)\n",
    "            accuracies[name].append(accuracy_score(y_test, yhat))"
   ]
  },
  {
   "cell_type": "markdown",
   "metadata": {},
   "source": [
    "In order to make the results more intuitive, we plot the accuracy list for every regularization situation. We compare them and try to find the best one."
   ]
  },
  {
   "cell_type": "code",
   "execution_count": 21,
   "metadata": {},
   "outputs": [
    {
     "data": {
      "image/png": "[encoded data removed]",
      "text/plain": [
       "<Figure size 432x288 with 4 Axes>"
      ]
     },
     "metadata": {},
     "output_type": "display_data"
    },
    {
     "data": {
      "text/plain": [
       "<Figure size 1440x720 with 0 Axes>"
      ]
     },
     "metadata": {},
     "output_type": "display_data"
    }
   ],
   "source": [
    "import matplotlib.pyplot as plt\n",
    "import numpy as np\n",
    "\n",
    "# Simple data to display in various forms\n",
    "x = C_interval\n",
    "y_stochastic_L1 = accuracies['stochastic_L1']\n",
    "y_stochastic_L2 = accuracies['stochastic_L2']\n",
    "y_stochastic_L1L2 = accuracies['stochastic_L1L2']\n",
    "y_stochastic_none = accuracies['stochastic_none']\n",
    "\n",
    "plt.close('all')\n",
    "\n",
    "f, axarr = plt.subplots(4, sharey=True)\n",
    "# f.suptitle('Sharing both axes')\n",
    "plt.figure(figsize=(20,10))\n",
    "axarr[0].plot(x, y_stochastic_L1)\n",
    "axarr[0].set_title('Accuracy of stochastic_L1')\n",
    "\n",
    "axarr[1].plot(x, y_stochastic_L2)\n",
    "axarr[1].set_title('Accuracy of stochastic_L2')\n",
    "\n",
    "axarr[2].plot(x, y_stochastic_L1L2)\n",
    "axarr[2].set_title('Accuracy of stochastic_L1L2')\n",
    "\n",
    "axarr[3].plot(x, y_stochastic_none)\n",
    "axarr[3].set_title('Accuracy of stochastic_none')\n",
    "\n",
    "# Bring subplots close to each other.\n",
    "f.subplots_adjust(hspace=0.5)\n",
    "# Hide x labels and tick labels for all but bottom plot.\n",
    "for ax in axarr:\n",
    "    ax.label_outer()"
   ]
  },
  {
   "cell_type": "code",
   "execution_count": 22,
   "metadata": {},
   "outputs": [
    {
     "data": {
      "image/png": "[encoded data removed]",
      "text/plain": [
       "<Figure size 432x288 with 4 Axes>"
      ]
     },
     "metadata": {},
     "output_type": "display_data"
    },
    {
     "data": {
      "text/plain": [
       "<Figure size 1440x720 with 0 Axes>"
      ]
     },
     "metadata": {},
     "output_type": "display_data"
    }
   ],
   "source": [
    "x = C_interval\n",
    "y_steepest_L1 = accuracies['steepest_L1']\n",
    "y_steepest_L2 = accuracies['steepest_L2']\n",
    "y_steepest_L1L2 = accuracies['steepest_L1L2']\n",
    "y_steepest_none = accuracies['steepest_none']\n",
    "\n",
    "plt.close('all')\n",
    "\n",
    "f, axarr = plt.subplots(4, sharey=True)\n",
    "# f.suptitle('Sharing both axes')\n",
    "plt.figure(figsize=(20,10))\n",
    "axarr[0].plot(x, y_steepest_L1)\n",
    "axarr[0].set_title('Accuracy of steepest_L1')\n",
    "\n",
    "axarr[1].plot(x, y_steepest_L2)\n",
    "axarr[1].set_title('Accuracy of steepest_L2')\n",
    "\n",
    "axarr[2].plot(x, y_steepest_L1L2)\n",
    "axarr[2].set_title('Accuracy of steepest_L1L2')\n",
    "\n",
    "axarr[3].plot(x, y_steepest_none)\n",
    "axarr[3].set_title('Accuracy of steepest_none')\n",
    "\n",
    "# Bring subplots close to each other.\n",
    "f.subplots_adjust(hspace=0.5)\n",
    "# Hide x labels and tick labels for all but bottom plot.\n",
    "for ax in axarr:\n",
    "    ax.label_outer()"
   ]
  },
  {
   "cell_type": "code",
   "execution_count": 23,
   "metadata": {},
   "outputs": [
    {
     "data": {
      "image/png": "[encoded data removed]",
      "text/plain": [
       "<Figure size 432x288 with 4 Axes>"
      ]
     },
     "metadata": {},
     "output_type": "display_data"
    },
    {
     "data": {
      "text/plain": [
       "<Figure size 1440x720 with 0 Axes>"
      ]
     },
     "metadata": {},
     "output_type": "display_data"
    }
   ],
   "source": [
    "x = C_interval\n",
    "y_newton_L1 = accuracies['newton_L1']\n",
    "y_newton_L2 = accuracies['newton_L2']\n",
    "y_newton_L1L2 = accuracies['newton_L1L2']\n",
    "y_newton_none = accuracies['newton_none']\n",
    "\n",
    "plt.close('all')\n",
    "\n",
    "f, axarr = plt.subplots(4, sharey=True)\n",
    "# f.suptitle('Sharing both axes')\n",
    "plt.figure(figsize=(20,10))\n",
    "axarr[0].plot(x, y_newton_L1)\n",
    "axarr[0].set_title('Accuracy of newton_L1')\n",
    "\n",
    "axarr[1].plot(x, y_newton_L2)\n",
    "axarr[1].set_title('Accuracy of newton_L2')\n",
    "\n",
    "axarr[2].plot(x, y_newton_L1L2)\n",
    "axarr[2].set_title('Accuracy of newton_L1L2')\n",
    "\n",
    "axarr[3].plot(x, y_newton_none)\n",
    "axarr[3].set_title('Accuracy of newton_none')\n",
    "\n",
    "# Bring subplots close to each other.\n",
    "f.subplots_adjust(hspace=0.5)\n",
    "# Hide x labels and tick labels for all but bottom plot.\n",
    "for ax in axarr:\n",
    "    ax.label_outer()"
   ]
  },
  {
   "cell_type": "markdown",
   "metadata": {},
   "source": [
    "Above the plots, we could find that the accuracy does not change with the change of C in newton and steepest descent method. "
   ]
  },
  {
   "cell_type": "markdown",
   "metadata": {},
   "source": [
    "We try to justify our stochastic method through selecting parameter C, so we need to choose one regularization method to find the optimized C.<br />\n",
    "We calculated the proportions of cases where the accuracy is over 80% for every regularization method and compare them to find the highest percentage proportion."
   ]
  },
  {
   "cell_type": "code",
   "execution_count": 24,
   "metadata": {},
   "outputs": [
    {
     "name": "stdout",
     "output_type": "stream",
     "text": [
      "L1 regularization percentage of accuracy above 80%: 88.0 %\n",
      "L2 regularization percentage of accuracy above 80%: 79.0 %\n",
      "L1L2 regularization percentage of accuracy above 80%: 83.0 %\n",
      "none regularization percentage of accuracy above 80%: 77.0 %\n"
     ]
    }
   ],
   "source": [
    "x = C_interval\n",
    "y_stochastic_L1 = accuracies['stochastic_L1']\n",
    "y_stochastic_L2 = accuracies['stochastic_L2']\n",
    "y_stochastic_L1L2 = accuracies['stochastic_L1L2']\n",
    "y_stochastic_none = accuracies['stochastic_none']\n",
    "\n",
    "countL1 = 0\n",
    "countL2 = 0\n",
    "countL1L2 = 0\n",
    "countnone = 0\n",
    "for item in y_stochastic_L1:\n",
    "    if item>0.8:\n",
    "        countL1 = countL1+1\n",
    "percent1 = countL1/len(y_stochastic_L1)\n",
    "print(\"L1 regularization percentage of accuracy above 80%:\",percent1*100,\"%\")\n",
    "for item in y_stochastic_L2:\n",
    "    if item>0.8:\n",
    "        countL2 = countL2+1\n",
    "percent2 = countL2/len(y_stochastic_L2)\n",
    "print(\"L2 regularization percentage of accuracy above 80%:\",percent2*100,\"%\")\n",
    "for item in y_stochastic_L1L2:\n",
    "    if item>0.8:\n",
    "        countL1L2 = countL1L2+1\n",
    "percent12 = countL1L2/len(y_stochastic_L1L2)\n",
    "print(\"L1L2 regularization percentage of accuracy above 80%:\",percent12*100,\"%\")\n",
    "for item in y_stochastic_none:\n",
    "    if item>0.8:\n",
    "        countnone = countnone+1\n",
    "percent0 = countnone/len(y_stochastic_none)\n",
    "print(\"none regularization percentage of accuracy above 80%:\",percent0*100,\"%\")"
   ]
  },
  {
   "cell_type": "markdown",
   "metadata": {},
   "source": [
    "We could find L1 regularization has the highest percentage, so we decide to adjust C based on L1 regularization."
   ]
  },
  {
   "cell_type": "markdown",
   "metadata": {},
   "source": [
    "We zoom the plot of L1 regularization."
   ]
  },
  {
   "cell_type": "code",
   "execution_count": 29,
   "metadata": {},
   "outputs": [
    {
     "data": {
      "text/plain": [
       "Text(0.5, 1.0, 'Accuracy of stochastic_L1')"
      ]
     },
     "execution_count": 29,
     "metadata": {},
     "output_type": "execute_result"
    },
    {
     "data": {
      "image/png": "[encoded data removed]",
      "text/plain": [
       "<Figure size 432x288 with 1 Axes>"
      ]
     },
     "metadata": {},
     "output_type": "display_data"
    }
   ],
   "source": [
    "x = C_interval\n",
    "y_stochastic_L1 = accuracies['stochastic_L1']\n",
    "f, ax = plt.subplots()\n",
    "ax.grid()\n",
    "ax.plot(x, y_stochastic_L1)\n",
    "plt.xlabel(\"C\")\n",
    "plt.ylabel(\"Accuracy\")\n",
    "ax.set_title('Accuracy of stochastic_L1')"
   ]
  },
  {
   "cell_type": "markdown",
   "metadata": {},
   "source": [
    "The plot overall maintains a high degree of accuracy, and lower accuracy in the interval is focus on the C which is greater than 0.5. We could choose C where the accuracy is higher than 0.8."
   ]
  },
  {
   "cell_type": "markdown",
   "metadata": {},
   "source": [
    "### Data Snooping\n",
    "Data snooping refers to statistical inference that the researcher decides to perform after looking at the data. In our opinion, there is no data snooping in our model. For previous data checking, such as whether there is missing data, is only for better modeling. In the subsequent modeling, we use the training set to set up model and testing set to test the accuracy of the model so as to select the optimal model. Finally, with the comparision, we find the model of stochastic method with L1 regularization fits our dataset best."
   ]
  },
  {
   "cell_type": "markdown",
   "metadata": {},
   "source": [
    "## Compare With Scikit-learn"
   ]
  },
  {
   "cell_type": "markdown",
   "metadata": {},
   "source": [
    "We did a logistic regression analysis with skilearn, and compared the training time and accuracy with steepest descent method. For a more intuitive representation, we plotted the histogram of time and iteration times as a comparison."
   ]
  },
  {
   "cell_type": "code",
   "execution_count": 26,
   "metadata": {},
   "outputs": [
    {
     "name": "stdout",
     "output_type": "stream",
     "text": [
      "CPU times: user 6 µs, sys: 1e+03 ns, total: 7 µs\n",
      "Wall time: 8.34 µs\n",
      "Steepest Time:  0.031025171279907227\n",
      "Steepest Accuracy:  0.81875\n",
      "CPU times: user 7 µs, sys: 1e+03 ns, total: 8 µs\n",
      "Wall time: 6.91 µs\n",
      "Scikit Time:  0.024024009704589844\n",
      "Scikit Accuracy:  0.821875\n"
     ]
    },
    {
     "name": "stderr",
     "output_type": "stream",
     "text": [
      "/Library/Frameworks/Python.framework/Versions/3.6/lib/python3.6/site-packages/ipykernel_launcher.py:18: RuntimeWarning: overflow encountered in exp\n",
      "/Library/Frameworks/Python.framework/Versions/3.6/lib/python3.6/site-packages/sklearn/linear_model/logistic.py:433: FutureWarning: Default solver will be changed to 'lbfgs' in 0.22. Specify a solver to silence this warning.\n",
      "  FutureWarning)\n",
      "/Library/Frameworks/Python.framework/Versions/3.6/lib/python3.6/site-packages/sklearn/linear_model/logistic.py:460: FutureWarning: Default multi_class will be changed to 'auto' in 0.22. Specify the multi_class option to silence this warning.\n",
      "  \"this warning.\", FutureWarning)\n"
     ]
    },
    {
     "data": {
      "image/png": "[encoded data removed]",
      "text/plain": [
       "<Figure size 432x288 with 3 Axes>"
      ]
     },
     "metadata": {},
     "output_type": "display_data"
    }
   ],
   "source": [
    "from sklearn.linear_model import LogisticRegression as SKLogisticRegression\n",
    "import time\n",
    "\n",
    "%time\n",
    "\n",
    "start = time.time()\n",
    "rlr = RegularizedLogisticRegression(eta=0.1,iters=500, reg='L1',\n",
    "                                   technique='steepest',C=0.02)\n",
    "\n",
    "rlr.fit(X, y)\n",
    "yhat = rlr.predict(X_test)\n",
    "acc = accuracy_score(y_test,yhat)\n",
    "\n",
    "end = time.time()\n",
    "our_time = end - start\n",
    "\n",
    "print(\"Steepest Time: \", our_time)\n",
    "print(\"Steepest Accuracy: \",acc)\n",
    "\n",
    "%time\n",
    "\n",
    "start = time.time()\n",
    "\n",
    "lrsk = SKLogisticRegression()\n",
    "lrsk.fit(X, y)\n",
    "yhat = lrsk.predict(X_test)\n",
    "acc_sk = accuracy_score(y_test,yhat)\n",
    "\n",
    "end = time.time()\n",
    "sk_time = end - start\n",
    "print(\"Scikit Time: \", sk_time)\n",
    "print(\"Scikit Accuracy: \", acc_sk)\n",
    "\n",
    "fig, axes = plt.subplots(nrows=1, ncols=3)\n",
    "plt.setp(axes, xticks=[0, 1], xticklabels=['ours', 'sk_learn'])\n",
    "\n",
    "y_axis = [our_time, sk_time]\n",
    "x_axis = [0, 1]\n",
    "plt.sca(axes[0])\n",
    "plt.bar(x_axis, y_axis)\n",
    "axes[0].set_title('Time')\n",
    "\n",
    "plt.sca(axes[1])\n",
    "y_axis = [acc, acc_sk]\n",
    "x_axis = [0, 1]\n",
    "plt.bar(x_axis, y_axis)\n",
    "axes[1].set_title('Accuracy')\n",
    "\n",
    "plt.sca(axes[2])\n",
    "y_axis = [200, lr_sk.n_iter_]\n",
    "x_axis = [0, 1]\n",
    "plt.bar(x_axis, y_axis)\n",
    "axes[2].set_title('Iterations')\n",
    "\n",
    "\n",
    "plt.tight_layout()\n",
    "plt.show()"
   ]
  },
  {
   "cell_type": "markdown",
   "metadata": {},
   "source": [
    "We could find that with skilearn method, although the accuracy is almost the same but the training time is much shorter. Also, sk_learn's interation is less than 25.<br />\n",
    "The skilearn is much better."
   ]
  },
  {
   "cell_type": "markdown",
   "metadata": {},
   "source": [
    "# Deployment"
   ]
  },
  {
   "cell_type": "markdown",
   "metadata": {},
   "source": [
    "Parameter comparision: <br>\n",
    "Our accuracy: 0.81<br>\n",
    "SK_learn accuracy: 0.82<br>\n",
    "\n",
    "Our time: 0.03<br>\n",
    "SK_learn time: 0.02<br>\n",
    "\n",
    "Our interations: 200<br>\n",
    "SK_learn interations: <25 <br>\n",
    "\n",
    "We can see that the accuray of our method and sk_learn as almost the same but the time used in our \"best\" logistic regression optimization 'Newton' procedure is about two times as the time used in sk-learn. Also the sk-learn even use largely fewer iterations than ours, the iterations are less than 25, but our method interation is around 200 times. This is natural, because sk_learn is a powerful and mature package, optimized by a lot of good engineers, and our method still needs to be optimized. So, we recommend to use sk_learn to deal with the dataset.<br />\n",
    "\n",
    "However, our model is also successful. To a certain extent, its accuracy rate is considerable. However, we still need more data to train our model, so that it can be put into real life and make profits for the winery.\n"
   ]
  },
  {
   "cell_type": "markdown",
   "metadata": {},
   "source": [
    "# Exceptional Work"
   ]
  },
  {
   "cell_type": "markdown",
   "metadata": {},
   "source": [
    "We changed objective function from binary entropy to mean square error. When sample size must evaluate a target using the stand or fall of point estimation standard is always point estimation and parameter function of the distance of the true value, the most commonly used function is the square of the distance, because of the randomness of estimator, this function can be expected, so the mean square error is one of the most general standard evaluation point estimation, naturally, we want to estimate the mean square error as small as possible."
   ]
  },
  {
   "cell_type": "markdown",
   "metadata": {},
   "source": [
    "Then we use BFGS algrithm intead of two gradient approach such us newton method gradient. It is similar with newthon but it is better than newton. \n",
    "The characteristics of Newton's method are: fast convergence, less iteration. However, when the matrix is very dense, the computation of each iteration is very heavy. As the data size increases, the Hessian matrix will become larger and the required storage space will increase. Sometimes it is too big to calculate. Therefore, Newton's method is no longer applicable to the calculation of massive data.\n",
    "BFGS is an approximation matrix of Hessian matrix based on Newton method. The convergence rate is between gradient descent method and Newton method. Like Newton's method, the quasi - Newton method can not deal with large data because of calculation. Quantities and storage space can be expensive. Although each iteration of quasi - Newton method does not guarantee the optimal direction as Newton method, but the approximate matrix is always. Positive definite, so the algorithm is always searching in the direction of optimization."
   ]
  },
  {
   "cell_type": "code",
   "execution_count": 27,
   "metadata": {},
   "outputs": [
    {
     "name": "stdout",
     "output_type": "stream",
     "text": [
      "Binary Logistic Regression Object with coefficients:\n",
      "[[0.02042951]\n",
      " [0.17302302]\n",
      " [0.00994945]\n",
      " [0.00615788]\n",
      " [0.05245948]\n",
      " [0.00172202]\n",
      " [0.3206586 ]\n",
      " [0.91171087]\n",
      " [0.02035979]\n",
      " [0.06744211]\n",
      " [0.01393127]\n",
      " [0.21830735]]\n",
      "Accuracy of:  0.8248905565978737\n"
     ]
    }
   ],
   "source": [
    "from scipy.optimize import fmin_bfgs\n",
    "from sklearn.metrics import mean_squared_error\n",
    "class BFGSBinaryLogisticRegression(BinaryLogisticRegression):\n",
    "    \n",
    "    @staticmethod\n",
    "    def objective_function(w,X,y,C):\n",
    "        g = expit(X @ w)\n",
    "        return mean_squared_error(g,y)\n",
    "\n",
    "    @staticmethod\n",
    "    def objective_gradient(w,X,y,C):\n",
    "        g = expit(X @ w)\n",
    "        ydiff = y-g # get y difference\n",
    "        gradient = np.mean(X * ydiff[:,np.newaxis], axis=0)\n",
    "        gradient = gradient.reshape(w.shape)\n",
    "        gradient[1:] += -2 * w[1:] * C\n",
    "        return -gradient\n",
    "    \n",
    "    # just overwrite fit function\n",
    "    def fit(self, X, y):\n",
    "        Xb = self._add_bias(X) # add bias term\n",
    "        num_samples, num_features = Xb.shape\n",
    "        \n",
    "        self.w_ = fmin_bfgs(self.objective_function, # what to optimize\n",
    "                            np.zeros((num_features,1)), # starting point\n",
    "                            fprime=self.objective_gradient, # gradient function\n",
    "                            args=(Xb,y,self.C), # extra args for gradient and objective function\n",
    "                            gtol=1e-03, # stopping criteria for gradient, |v_k|\n",
    "                            maxiter=self.iters, # stopping criteria iterations\n",
    "                            disp=False)\n",
    "        \n",
    "        self.w_ = self.w_.reshape((num_features,1))\n",
    "            \n",
    "bfgslr = BFGSBinaryLogisticRegression(_,10,C=0.001) # note that we need only a few iterations here\n",
    "\n",
    "bfgslr.fit(X,y)\n",
    "yhat = bfgslr.predict(X)\n",
    "print(bfgslr)\n",
    "print('Accuracy of: ',accuracy_score(y,yhat))"
   ]
  },
  {
   "cell_type": "markdown",
   "metadata": {},
   "source": [
    "From the accuracy, we can see that the accuracy of BFGS approach to predict the mean square error is higher than other method obviously in this dataset. Therefore, we can get this method to predict the wine quality which is better to get a exact and satisfied result."
   ]
  }
 ],
 "metadata": {
  "kernelspec": {
   "display_name": "Python 3",
   "language": "python",
   "name": "python3"
  },
  "language_info": {
   "codemirror_mode": {
    "name": "ipython",
    "version": 3
   },
   "file_extension": ".py",
   "mimetype": "text/x-python",
   "name": "python",
   "nbconvert_exporter": "python",
   "pygments_lexer": "ipython3",
   "version": "3.6.8"
  }
 },
 "nbformat": 4,
 "nbformat_minor": 2
}
